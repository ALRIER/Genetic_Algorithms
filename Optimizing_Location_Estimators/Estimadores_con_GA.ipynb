{
  "cells": [
    {
      "cell_type": "markdown",
      "metadata": {
        "id": "view-in-github",
        "colab_type": "text"
      },
      "source": [
        "<a href=\"https://colab.research.google.com/github/ALRIER/Genetic_Algorithms/blob/main/Optimizing_Location_Estimators/Estimadores_con_GA.ipynb\" target=\"_parent\"><img src=\"https://colab.research.google.com/assets/colab-badge.svg\" alt=\"Open In Colab\"/></a>"
      ]
    },
    {
      "cell_type": "code",
      "source": [
        "%load_ext rpy2.ipython"
      ],
      "metadata": {
        "id": "CNXUdUzpw2ld",
        "colab": {
          "base_uri": "https://localhost:8080/"
        },
        "outputId": "cdeaff74-05fc-404a-f61b-47d26eadda66"
      },
      "execution_count": null,
      "outputs": [
        {
          "output_type": "stream",
          "name": "stdout",
          "text": [
            "The rpy2.ipython extension is already loaded. To reload it, use:\n",
            "  %reload_ext rpy2.ipython\n"
          ]
        }
      ]
    },
    {
      "cell_type": "code",
      "source": [
        "from google.colab import drive\n",
        "drive.mount('/content/drive')"
      ],
      "metadata": {
        "id": "7Yol-__DwFvA",
        "colab": {
          "base_uri": "https://localhost:8080/"
        },
        "outputId": "5b7c7d0f-c4d8-4b18-f57b-b45af80a21ff"
      },
      "execution_count": null,
      "outputs": [
        {
          "output_type": "stream",
          "name": "stdout",
          "text": [
            "Drive already mounted at /content/drive; to attempt to forcibly remount, call drive.mount(\"/content/drive\", force_remount=True).\n"
          ]
        }
      ]
    },
    {
      "cell_type": "code",
      "source": [
        "%%R\n",
        "\n",
        "# Configura la librería de paquetes para que apunte a tu carpeta en Drive\n",
        ".libPaths(\"/content/drive/MyDrive/Rpackages\")\n"
      ],
      "metadata": {
        "id": "SiFDukKMwsmo"
      },
      "execution_count": null,
      "outputs": []
    },
    {
      "cell_type": "code",
      "source": [
        "%%R\n",
        "# Ajustar .libPaths() para incluir el directorio de paquetes personalizado\n",
        ".libPaths(c(\"/content/drive/MyDrive/Rpackages\", .libPaths()))\n",
        "\n",
        "# Lista de paquetes deseados\n",
        "paquetes_deseados <- c(\"modeest\",\"gamlss\", \"RelDists\", \"GA\",\"statmod\",\"gtools\", \"scales\")\n",
        "\n",
        "# Función para instalar paquetes si no están ya en la carpeta\n",
        "instalar_si_no_existe <- function(paquetes) {\n",
        "  # Asegurarse de que package_names esté actualizado con la configuración actual de .libPaths()\n",
        "  installed.packages <- installed.packages()\n",
        "  package_names <- installed.packages[, \"Package\"]\n",
        "\n",
        "  for (paquete in paquetes) {\n",
        "    if (!paquete %in% package_names) {\n",
        "      message(paste(\"Instalando paquete:\", paquete))\n",
        "      install.packages(paquete, lib=\"/content/drive/MyDrive/Rpackages\")\n",
        "      # Actualizar la lista de paquetes instalados después de la instalación\n",
        "      installed.packages <- installed.packages()\n",
        "      package_names <- installed.packages[, \"Package\"]\n",
        "    } else {\n",
        "      message(paste(\"El paquete ya está instalado:\", paquete))\n",
        "    }\n",
        "  }\n",
        "}\n",
        "\n",
        "# Ejecuta la función con tu lista de paquetes deseados\n",
        "instalar_si_no_existe(paquetes_deseados)\n"
      ],
      "metadata": {
        "colab": {
          "base_uri": "https://localhost:8080/",
          "height": 676
        },
        "id": "ORCbcB3qw8KQ",
        "outputId": "34c9d100-086c-4d98-fa07-dc815c4db5e7"
      },
      "execution_count": null,
      "outputs": [
        {
          "output_type": "display_data",
          "data": {
            "text/plain": [
              "Instalando paquete: modeest\n",
              "also installing the dependencies ‘timeDate’, ‘timeSeries’, ‘gss’, ‘rmutil’, ‘clue’, ‘fBasics’, ‘stable’, ‘stabledist’, ‘statip’\n",
              "\n",
              "trying URL 'https://cran.rstudio.com/src/contrib/timeDate_4041.110.tar.gz'\n",
              "trying URL 'https://cran.rstudio.com/src/contrib/timeSeries_4041.111.tar.gz'\n",
              "trying URL 'https://cran.rstudio.com/src/contrib/gss_2.2-9.tar.gz'\n",
              "trying URL 'https://cran.rstudio.com/src/contrib/rmutil_1.1.10.tar.gz'\n",
              "trying URL 'https://cran.rstudio.com/src/contrib/clue_0.3-66.tar.gz'\n",
              "trying URL 'https://cran.rstudio.com/src/contrib/fBasics_4041.97.tar.gz'\n",
              "trying URL 'https://cran.rstudio.com/src/contrib/stable_1.1.6.tar.gz'\n",
              "trying URL 'https://cran.rstudio.com/src/contrib/stabledist_0.7-2.tar.gz'\n",
              "trying URL 'https://cran.rstudio.com/src/contrib/statip_0.2.3.tar.gz'\n",
              "trying URL 'https://cran.rstudio.com/src/contrib/modeest_2.4.0.tar.gz'\n",
              "\n",
              "The downloaded source packages are in\n",
              "\t‘/tmp/RtmpEmppUb/downloaded_packages’\n",
              "El paquete ya está instalado: gamlss\n",
              "El paquete ya está instalado: RelDists\n",
              "El paquete ya está instalado: GA\n",
              "Instalando paquete: statmod\n",
              "trying URL 'https://cran.rstudio.com/src/contrib/statmod_1.5.0.tar.gz'\n",
              "Content type 'application/x-gzip' length 92486 bytes (90 KB)\n",
              "==================================================\n",
              "downloaded 90 KB\n",
              "\n",
              "\n",
              "The downloaded source packages are in\n",
              "\t‘/tmp/RtmpEmppUb/downloaded_packages’\n",
              "Instalando paquete: gtools\n",
              "trying URL 'https://cran.rstudio.com/src/contrib/gtools_3.9.5.tar.gz'\n",
              "Content type 'application/x-gzip' length 242029 bytes (236 KB)\n",
              "==================================================\n",
              "downloaded 236 KB\n",
              "\n",
              "\n",
              "The downloaded source packages are in\n",
              "\t‘/tmp/RtmpEmppUb/downloaded_packages’\n",
              "El paquete ya está instalado: scales\n"
            ]
          },
          "metadata": {}
        }
      ]
    },
    {
      "cell_type": "code",
      "source": [
        "%%R\n",
        "install.packages(\"RcppParallel\", lib=\"/content/drive/MyDrive/Rpackages\", dependencies=TRUE)\n"
      ],
      "metadata": {
        "colab": {
          "base_uri": "https://localhost:8080/",
          "height": 138
        },
        "id": "k9-pF_Aly8TE",
        "outputId": "3a0d01b8-302d-416d-b2f3-4e2d1cc64d41"
      },
      "execution_count": null,
      "outputs": [
        {
          "output_type": "display_data",
          "data": {
            "text/plain": [
              "also installing the dependency ‘RUnit’\n",
              "\n",
              "trying URL 'https://cran.rstudio.com/src/contrib/RUnit_0.4.33.tar.gz'\n",
              "trying URL 'https://cran.rstudio.com/src/contrib/RcppParallel_5.1.10.tar.gz'\n",
              "\n",
              "The downloaded source packages are in\n",
              "\t‘/tmp/RtmpEmppUb/downloaded_packages’\n"
            ]
          },
          "metadata": {}
        }
      ]
    },
    {
      "cell_type": "code",
      "source": [
        "%%R\n",
        "install.packages(\"lamW\", lib=\"/content/drive/MyDrive/Rpackages\", dependencies=TRUE)"
      ],
      "metadata": {
        "colab": {
          "base_uri": "https://localhost:8080/",
          "height": 399
        },
        "id": "CcqaqHs0zAia",
        "outputId": "32ee66a4-1c6d-4783-9baa-01a829050c95"
      },
      "execution_count": null,
      "outputs": [
        {
          "output_type": "display_data",
          "data": {
            "text/plain": [
              "also installing the dependencies ‘rex’, ‘covr’, ‘tinytest’\n",
              "\n",
              "trying URL 'https://cran.rstudio.com/src/contrib/rex_1.2.1.tar.gz'\n",
              "trying URL 'https://cran.rstudio.com/src/contrib/covr_3.6.4.tar.gz'\n",
              "trying URL 'https://cran.rstudio.com/src/contrib/tinytest_1.4.1.tar.gz'\n",
              "trying URL 'https://cran.rstudio.com/src/contrib/lamW_2.2.4.tar.gz'\n",
              "\n",
              "The downloaded source packages are in\n",
              "\t‘/tmp/RtmpEmppUb/downloaded_packages’\n",
              "also installing the dependencies ‘gamlss.cens’, ‘V8’\n",
              "\n",
              "trying URL 'https://cran.rstudio.com/src/contrib/gamlss.cens_5.0-7.tar.gz'\n",
              "trying URL 'https://cran.rstudio.com/src/contrib/V8_6.0.4.tar.gz'\n",
              "trying URL 'https://cran.rstudio.com/src/contrib/RelDists_1.0.0.tar.gz'\n",
              "\n",
              "The downloaded source packages are in\n",
              "\t‘/tmp/RtmpEmppUb/downloaded_packages’\n",
              "In addition: Warning messages:\n",
              "1: In install.packages(\"lamW\", lib = \"/content/drive/MyDrive/Rpackages\",  :\n",
              "  installation of package ‘lamW’ had non-zero exit status\n",
              "2: In install.packages(\"RelDists\", lib = \"/content/drive/MyDrive/Rpackages\",  :\n",
              "  installation of package ‘V8’ had non-zero exit status\n"
            ]
          },
          "metadata": {}
        }
      ]
    },
    {
      "cell_type": "markdown",
      "metadata": {
        "id": "XSDtNX7xtDDA"
      },
      "source": [
        "##Cargando paquetes preinstalados"
      ]
    },
    {
      "cell_type": "code",
      "execution_count": null,
      "metadata": {
        "id": "1y5_rvF2ngf9",
        "colab": {
          "base_uri": "https://localhost:8080/",
          "height": 121
        },
        "outputId": "32905dda-9692-4101-929e-20f28ed47f6e"
      },
      "outputs": [
        {
          "output_type": "display_data",
          "data": {
            "text/plain": [
              "Paquete cargado exitosamente: modeest\n",
              "Paquete no disponible: gamlss\n",
              "Paquete no disponible: GA\n",
              "Paquete cargado exitosamente: statmod\n",
              "Paquete cargado exitosamente: gtools\n",
              "Paquete cargado exitosamente: scales\n"
            ]
          },
          "metadata": {}
        }
      ],
      "source": [
        "%%R\n",
        "\n",
        "cargar_paquetes <- function(paquetes) {\n",
        "  # Asegura que la librería apunte a tu carpeta en Drive\n",
        "  .libPaths(\"/content/drive/MyDrive/Rpackages\")\n",
        "\n",
        "  paquetes_instalados <- rownames(installed.packages(lib.loc = .libPaths()))\n",
        "\n",
        "  for (paquete in paquetes) {\n",
        "    if (paquete %in% paquetes_instalados) {\n",
        "      # Si el paquete está instalado, intenta cargarlo\n",
        "      library(paquete, character.only = TRUE)\n",
        "      message(paste(\"Paquete cargado exitosamente:\", paquete))\n",
        "    } else {\n",
        "      # Si el paquete no está instalado, envía un mensaje\n",
        "      message(paste(\"Paquete no disponible:\", paquete))\n",
        "    }\n",
        "  }\n",
        "}\n",
        "# Aquí estan los paquetes que quieres cargar\n",
        "paquetes_para_cargar <- c(\"modeest\",\"gamlss\", \"GA\",\"statmod\",\"gtools\", \"scales\")\n",
        "# Llama a la función con el vector de paquetes\n",
        "cargar_paquetes(paquetes_para_cargar)\n"
      ]
    },
    {
      "cell_type": "code",
      "source": [
        "%%R\n",
        "library(ggplot2)\n",
        "library(tidyverse)"
      ],
      "metadata": {
        "id": "Xug0tZEAQED1"
      },
      "execution_count": null,
      "outputs": []
    },
    {
      "cell_type": "markdown",
      "metadata": {
        "id": "fl0xuXP1hXVS"
      },
      "source": [
        "##Code Montecarlo"
      ]
    },
    {
      "cell_type": "code",
      "source": [
        "%%R\n",
        "# Ex-Wald generator\n",
        "rexwald <- function(n, mu = 1, lambda = 1, rate = 1) {\n",
        "  T0 <- rexp(n, rate = rate)\n",
        "  W <- rinvgauss(n, mean = mu, shape = lambda)\n",
        "  return(T0 + W)\n",
        "}\n",
        "# rexgaussian generator\n",
        "rexgaussian <- function(n, mu = 0, sigma = 1, tau = 1) {\n",
        "  rnorm(n, mean = mu, sd = sigma) + rexp(n, rate = 1 / tau)\n",
        "}\n",
        "generate_data <- function(distribution, n, params = list()) {\n",
        "  switch(distribution,\n",
        "         normal = rnorm(n, mean = params$mean, sd = params$sd),\n",
        "         lognormal = rlnorm(n, meanlog = params$meanlog, sdlog = params$sdlog),\n",
        "         weibull = rweibull(n, shape = params$shape, scale = params$scale),\n",
        "         invgauss = statmod::rinvgauss(n, mean = params$mean, shape = params$shape),\n",
        "         exgaussian = rexgaussian(n, mu = params$mu, sigma = params$sigma, tau = params$tau),\n",
        "         exwald = rexwald(n, mu = params$mu, lambda = params$lambda, rate = params$rate),\n",
        "         stop(\"Unsupported distribution\")\n",
        "  )\n",
        "}\n",
        "# Estimator\n",
        "apply_estimator <- function(data, estimator) {\n",
        "  switch(estimator,\n",
        "         mean = mean(data),\n",
        "         median = median(data),\n",
        "         trimmed_mean = mean(data, trim = 0.2),\n",
        "         hd_median = as.numeric(quantile(data, probs = 0.5, type = 8)),\n",
        "         parzen_mode = as.numeric(modeest::mlv(data, method = \"parzen\")),\n",
        "         venter_mode = as.numeric(modeest::mlv(data, method = \"venter\")),\n",
        "         stop(\"Unsupported estimator\")\n",
        "  )\n",
        "}\n",
        "\n",
        "# Performance indicators\n",
        "compute_indicators <- function(estimates, true_value, mse_clean = NA) {\n",
        "  bias <- mean(estimates) - true_value\n",
        "  variance <- var(estimates)\n",
        "  mse <- bias^2 + variance\n",
        "  iqr <- IQR(estimates)\n",
        "  median_est <- median(estimates, na.rm = TRUE)\n",
        "  cv_robust <- if (!is.na(median_est) && median_est != 0) iqr / median_est else NA\n",
        "\n",
        "  return(data.frame(\n",
        "    bias = bias,\n",
        "    variance = variance,\n",
        "    mse = mse,\n",
        "    iqr = iqr,\n",
        "    cv_robust = cv_robust\n",
        "  ))\n",
        "}\n",
        "# Monte Carlo\n",
        "montecarlo_sim <- function(distribution, estimator, params = list(), reps = 1000, sample_sizes = c(10, 50, 100)) {\n",
        "  results <- data.frame()\n",
        "\n",
        "  for (n in sample_sizes) {\n",
        "    estimates <- numeric(reps)\n",
        "    population <- generate_data(distribution, 1e6, params = params)\n",
        "    true_value <- apply_estimator(population, estimator)\n",
        "\n",
        "    for (i in 1:reps) {\n",
        "      data <- generate_data(distribution, n, params = params)\n",
        "      estimates[i] <- tryCatch({\n",
        "        apply_estimator(data, estimator)\n",
        "      }, error = function(e) NA)\n",
        "    }\n",
        "\n",
        "    indicators <- compute_indicators(estimates, true_value)\n",
        "    indicators$sample_size <- n\n",
        "    indicators$distribution <- distribution\n",
        "    indicators$estimator <- estimator\n",
        "    indicators$params <- paste(names(params), unlist(params), collapse = \";\")\n",
        "\n",
        "    results <- rbind(results, indicators)\n",
        "  }\n",
        "\n",
        "  return(results)\n",
        "}\n",
        "\n",
        "# pipeline\n",
        "dists <- c(\"normal\", \"lognormal\", \"weibull\", \"invgauss\", \"exgaussian\", \"exwald\")\n",
        "ests  <- c(\"mean\", \"median\", \"trimmed_mean\", \"hd_median\", \"parzen_mode\", \"venter_mode\")\n",
        "\n",
        "param_grids <- list(\n",
        "  normal = expand.grid(mean = c(0, 5), sd = c(1, 2)),\n",
        "  lognormal = expand.grid(meanlog = c(0, 1), sdlog = c(0.5, 1)),\n",
        "  weibull = expand.grid(shape = c(1.5, 2), scale = c(1, 2)),\n",
        "  invgauss = expand.grid(mean = c(0.5, 1), shape = c(1, 2)),\n",
        "  exgaussian = expand.grid(mu = c(0, 2), sigma = c(1, 1.5), tau = c(0.5, 1)),\n",
        "  exwald = expand.grid(mu = c(1, 2), lambda = c(1, 2), rate = c(0.5, 1))\n",
        ")\n",
        "\n",
        "\n",
        "results_all <- do.call(rbind, lapply(names(param_grids), function(dist) {\n",
        "  grid <- param_grids[[dist]]\n",
        "  do.call(rbind, lapply(1:nrow(grid), function(i) {\n",
        "    params <- as.list(grid[i, ])\n",
        "    do.call(rbind, lapply(ests, function(e) {\n",
        "      montecarlo_sim(distribution = dist, estimator = e, params = params)\n",
        "    }))\n",
        "  }))\n",
        "}))\n"
      ],
      "metadata": {
        "id": "tZ8tvoXVL_kH"
      },
      "execution_count": null,
      "outputs": []
    },
    {
      "cell_type": "markdown",
      "metadata": {
        "id": "tFNJJSnnhMIz"
      },
      "source": [
        "###Exporting Montecarlo"
      ]
    },
    {
      "cell_type": "code",
      "execution_count": null,
      "metadata": {
        "id": "iDWjtcPTeerw"
      },
      "outputs": [],
      "source": [
        "%%R\n",
        "write.csv(results_all, \"results_all.csv\", row.names = FALSE)"
      ]
    },
    {
      "cell_type": "markdown",
      "metadata": {
        "id": "FvCmFuxphRVc"
      },
      "source": [
        "###Ploting Montecarlo"
      ]
    },
    {
      "cell_type": "code",
      "execution_count": null,
      "metadata": {
        "id": "h89Hk5dZ2FNW"
      },
      "outputs": [],
      "source": [
        "%%R\n",
        "options(repr.plot.width = 14, repr.plot.height = 10)"
      ]
    },
    {
      "cell_type": "code",
      "execution_count": null,
      "metadata": {
        "id": "elgnFmjfup0r",
        "colab": {
          "base_uri": "https://localhost:8080/",
          "height": 106
        },
        "outputId": "70a50625-48de-448b-bc60-fd44f5f23469"
      },
      "outputs": [
        {
          "output_type": "error",
          "ename": "SyntaxError",
          "evalue": "invalid syntax (<ipython-input-18-2409755698>, line 1)",
          "traceback": [
            "\u001b[0;36m  File \u001b[0;32m\"<ipython-input-18-2409755698>\"\u001b[0;36m, line \u001b[0;32m1\u001b[0m\n\u001b[0;31m    ggplot(exwald_results, aes(x = factor(sample_size), y = cv_robust)) +\u001b[0m\n\u001b[0m                                                                         ^\u001b[0m\n\u001b[0;31mSyntaxError\u001b[0m\u001b[0;31m:\u001b[0m invalid syntax\n"
          ]
        }
      ],
      "source": [
        "%%R\n",
        "ggplot(exwald_results, aes(x = factor(sample_size), y = cv_robust)) +\n",
        "  geom_boxplot(outlier.shape = NA, fill = \"white\", color = \"black\") +\n",
        "  facet_grid(mu + lambda ~ rate, labeller = label_both) +\n",
        "  labs(\n",
        "    title = \"Coeficiente de variación robusto (MAD / median)\",\n",
        "    x = \"Tamaño de muestra\",\n",
        "    y = \"CV robusto (MAD / median)\"\n",
        "  ) +\n",
        "  theme_minimal(base_size = 14) +\n",
        "  theme(strip.text = element_text(face = \"bold\"))"
      ]
    },
    {
      "cell_type": "markdown",
      "metadata": {
        "id": "DNfNLkjCuRob"
      },
      "source": [
        "#Genetic Algo"
      ]
    },
    {
      "cell_type": "markdown",
      "metadata": {
        "id": "wCOA82FzhFOR"
      },
      "source": [
        "##Gnetic Code"
      ]
    },
    {
      "cell_type": "code",
      "source": [
        "%%R\n",
        "\n",
        "# Define the list of distributions\n",
        "distributions <- c(\"normal\", \"lognormal\", \"weibull\", \"invgauss\", \"exgaussian\", \"exwald\")\n",
        "\n",
        "# Ex-Wald generator\n",
        "rexwald <- function(n, mu = 1, lambda = 1, rate = 1) {\n",
        "  T0 <- rexp(n, rate = rate)\n",
        "  W <- rinvgauss(n, mean = mu, shape = lambda)\n",
        "  return(T0 + W)\n",
        "}\n",
        "\n",
        "# rexgaussian generator\n",
        "rexgaussian <- function(n, mu = 0, sigma = 1, tau = 1) {\n",
        "  rnorm(n, mean = mu, sd = sigma) + rexp(n, rate = 1 / tau)\n",
        "}\n",
        "\n",
        "# Introducing my Genes! :)\n",
        "custom_estimator <- function(sample, weights) {\n",
        "  mean_val <- mean(sample)\n",
        "  median_val <- median(sample)\n",
        "  trimmed <- mean(sample, trim = 0.1)\n",
        "  midrange <- (min(sample) + max(sample)) / 2\n",
        "\n",
        "  estimators <- c(mean_val, median_val, trimmed, midrange)\n",
        "  return(sum(weights * estimators))\n",
        "}\n",
        "\n",
        "# Functional simulation - How I generate different generations.\n",
        "generate_population <- function(distribution, n, params = list()) {\n",
        "  switch(distribution,\n",
        "         normal = rnorm(n, mean = params$mean, sd = params$sd),\n",
        "         lognormal = rlnorm(n, meanlog = params$meanlog, sdlog = params$sdlog),\n",
        "         weibull = rweibull(n, shape = params$shape, scale = params$scale),\n",
        "         invgauss = statmod::rinvgauss(n, mean = params$mean, shape = params$shape),\n",
        "         exgaussian = rexgaussian(n, mu = params$mu, sigma = params$sigma, tau = params$tau),\n",
        "         exwald = rexwald(n, mu = params$mu, lambda = params$lambda, rate = params$rate),\n",
        "         stop(\"Unsupported distribution\")\n",
        "  )\n",
        "}\n",
        "\n",
        "# Utility function to expand a parameter grid into a list of lists\n",
        "expand_params <- function(...) {\n",
        "  grid <- expand.grid(...)\n",
        "  lapply(1:nrow(grid), function(i) as.list(grid[i, ]))\n",
        "}\n",
        "\n",
        "# Expanded distributions list\n",
        "param_grids <- list(\n",
        "  normal = expand.grid(mean = c(0, 2, 5), sd = c(1, 2, 3)),\n",
        "  lognormal = expand.grid(meanlog = c(0, 1), sdlog = c(0.5, 1)),\n",
        "  weibull = expand.grid(shape = c(1.5, 2), scale = c(1, 2)),\n",
        "  invgauss = expand.grid(mean = c(0.5, 1, 2), shape = c(1, 2)),\n",
        "  exgaussian = expand.grid(mu = c(0, 2), sigma = c(1, 1.5), tau = c(0.5, 1)),\n",
        "  exwald = expand.grid(mu = c(1, 2, 3), lambda = c(1, 2), rate = c(0.5, 1))\n",
        ")\n",
        "\n",
        "lapply(distributions, function(dist) {\n",
        "  param_grid <- param_grids[[dist]]\n",
        "  sapply(param_grid, function(p) any(is.na(unlist(p))))\n",
        "})\n",
        "\n",
        "# Fitness function: My performance indicators\n",
        "compute_metrics <- function(weights, samples, true_mean) {\n",
        "  estimates <- sapply(samples, custom_estimator, weights = weights)\n",
        "  mse <- mean((estimates - true_mean)^2)\n",
        "  bias <- mean(estimates) - true_mean\n",
        "  iqr <- IQR(estimates)\n",
        "\n",
        "  med <- median(estimates)\n",
        "  mad <- mad(estimates, constant = 1)\n",
        "  cv_robust <- ifelse(med != 0, mad / med, NA)\n",
        "\n",
        "  return(c(mse = mse, bias = bias, iqr = iqr, cv_robust = cv_robust))\n",
        "}\n",
        "\n",
        "# Initialize population\n",
        "init_population <- function(size, n_estimators) {\n",
        "  matrix(data = gtools::rdirichlet(size, rep(1, n_estimators)), nrow = size, byrow = TRUE)\n",
        "}\n",
        "\n",
        "# Crossover\n",
        "crossover <- function(parent1, parent2) {\n",
        "  alpha <- runif(1)\n",
        "  child <- alpha * parent1 + (1 - alpha) * parent2\n",
        "  child / sum(child)\n",
        "}\n",
        "\n",
        "# Mutation\n",
        "mutate <- function(weights, mutation_rate = 0.1) {\n",
        "  if (runif(1) < mutation_rate) {\n",
        "    perturb <- gtools::rdirichlet(1, rep(1, length(weights)))\n",
        "    weights <- (weights + perturb) / 2\n",
        "    weights / sum(weights)\n",
        "  } else {\n",
        "    weights\n",
        "  }\n",
        "}\n",
        "\n",
        "# Para traducir los estimadores al dataframe final - asigna un peso y los distingue.\n",
        "weights_to_formula <- function(weights) {\n",
        "  names <- c(\"mean\", \"median\", \"trimmed\", \"midrange\")\n",
        "  parts <- paste0(round(weights, 3), \"*\", names)\n",
        "  paste(parts, collapse = \" + \")\n",
        "}\n",
        "\n",
        "# Genetic Algorithm Loop\n",
        "evolve_ga_grid <- function(dist_name,\n",
        "                           dist_param_grid,\n",
        "                           sample_sizes = c(30, 50, 200, 500, 1000, 5000),\n",
        "                           num_samples = 100,\n",
        "                           pop_size = 10,\n",
        "                           generations = 15) {\n",
        "  set.seed(42)\n",
        "  results <- list()\n",
        "  n_estimators <- 4\n",
        "  all_possible_params <- unique(unlist(lapply(param_grids, function(grid) {\n",
        "    unique(unlist(lapply(1:nrow(grid), function(i) names(as.list(grid[i, ])))))\n",
        "  })))\n",
        "\n",
        "  for (param in dist_param_grid) {\n",
        "    if (any(!is.finite(unlist(param))) || any(unlist(param) <= 0)) {\n",
        "      warning(paste(\"Invalid or non-positive parameter(s) in\", dist_name, \":\", paste(names(param), param, collapse = \", \")))\n",
        "      next\n",
        "    }\n",
        "\n",
        "    population <- generate_population(dist_name, 1e6, param)\n",
        "    if (any(is.na(population))) {\n",
        "      warning(paste(\"Generated population for\", dist_name, \"with params\", paste(names(param), param, collapse = \", \"), \"has NAs. Skipping.\"))\n",
        "      next\n",
        "    }\n",
        "    true_mean <- mean(population)\n",
        "\n",
        "    for (sample_size in sample_sizes) {\n",
        "      samples <- replicate(num_samples, sample(population, sample_size), simplify = FALSE)\n",
        "      ga_population <- init_population(pop_size, n_estimators)\n",
        "\n",
        "      for (gen in 1:generations) {\n",
        "        fitness_scores <- apply(ga_population, 1, function(w) {\n",
        "          estimates <- sapply(samples, custom_estimator, weights = w)\n",
        "          mean((estimates - true_mean)^2)\n",
        "        })\n",
        "\n",
        "        selected_idx <- order(fitness_scores)[1:(pop_size / 2)]\n",
        "        selected <- ga_population[selected_idx, , drop = FALSE]\n",
        "\n",
        "        new_population <- matrix(NA, nrow = pop_size, ncol = n_estimators)\n",
        "        for (i in 1:(pop_size)) {\n",
        "          p1 <- selected[sample(nrow(selected), 1), ]\n",
        "          p2 <- selected[sample(nrow(selected), 1), ]\n",
        "          child <- mutate(crossover(p1, p2))\n",
        "          new_population[i, ] <- child\n",
        "        }\n",
        "        ga_population <- new_population\n",
        "      }\n",
        "\n",
        "      final_fitness <- apply(ga_population, 1, function(w) {\n",
        "        estimates <- sapply(samples, custom_estimator, weights = w)\n",
        "        mean((estimates - true_mean)^2)\n",
        "      })\n",
        "\n",
        "      best_idx <- which.min(final_fitness)\n",
        "      best_weights <- ga_population[best_idx, ]\n",
        "      estimates <- sapply(samples, custom_estimator, weights = best_weights)\n",
        "\n",
        "      mse <- mean((estimates - true_mean)^2)\n",
        "      bias <- mean(estimates) - true_mean\n",
        "      variance <- var(estimates)\n",
        "      iqr <- IQR(estimates)\n",
        "      med <- median(estimates)\n",
        "      mad_val <- mad(estimates, constant = 1)\n",
        "      cv_robust <- ifelse(med != 0, mad_val / med, NA)\n",
        "\n",
        "      param_filled <- setNames(rep(NA, length(all_possible_params)), all_possible_params)\n",
        "      param_filled[names(param)] <- param\n",
        "\n",
        "      results[[length(results) + 1]] <- c(\n",
        "        list(\n",
        "          bias = bias,\n",
        "          variance = variance,\n",
        "          mse = mse,\n",
        "          iqr = iqr,\n",
        "          cv_robust = cv_robust,\n",
        "          sample_size = sample_size,\n",
        "          distribution = dist_name,\n",
        "          estimator = weights_to_formula(best_weights),\n",
        "          weights = paste(round(best_weights, 3), collapse = \";\")\n",
        "        ),\n",
        "        as.list(param_filled)\n",
        "      )\n",
        "    }\n",
        "  }\n",
        "\n",
        "  return(bind_rows(lapply(results, as.data.frame)))\n",
        "}\n",
        "\n",
        "# Final loop for all results\n",
        "all_results <- do.call(rbind, lapply(names(param_grids), function(dist) {\n",
        "  grid <- param_grids[[dist]]\n",
        "  param_list <- lapply(1:nrow(grid), function(i) as.list(grid[i, ]))\n",
        "  evolve_ga_grid(\n",
        "    dist_name = dist,\n",
        "    dist_param_grid = param_list\n",
        "  )\n",
        "}))\n"
      ],
      "metadata": {
        "colab": {
          "base_uri": "https://localhost:8080/",
          "height": 347
        },
        "id": "Vf00VGh7fXS3",
        "outputId": "3c196a39-5921-4571-862c-ab84844bd257"
      },
      "execution_count": null,
      "outputs": [
        {
          "output_type": "display_data",
          "data": {
            "text/plain": [
              "In addition: Warning messages:\n",
              "1: In evolve_ga_grid(dist_name = dist, dist_param_grid = param_list) :\n",
              "  Invalid or non-positive parameter(s) in normal : mean 0, sd 1\n",
              "2: In evolve_ga_grid(dist_name = dist, dist_param_grid = param_list) :\n",
              "  Invalid or non-positive parameter(s) in normal : mean 0, sd 2\n",
              "3: In evolve_ga_grid(dist_name = dist, dist_param_grid = param_list) :\n",
              "  Invalid or non-positive parameter(s) in normal : mean 0, sd 3\n",
              "4: In evolve_ga_grid(dist_name = dist, dist_param_grid = param_list) :\n",
              "  Invalid or non-positive parameter(s) in lognormal : meanlog 0, sdlog 0.5\n",
              "5: In evolve_ga_grid(dist_name = dist, dist_param_grid = param_list) :\n",
              "  Invalid or non-positive parameter(s) in lognormal : meanlog 0, sdlog 1\n",
              "6: In evolve_ga_grid(dist_name = dist, dist_param_grid = param_list) :\n",
              "  Invalid or non-positive parameter(s) in exgaussian : mu 0, sigma 1, tau 0.5\n",
              "7: In evolve_ga_grid(dist_name = dist, dist_param_grid = param_list) :\n",
              "  Invalid or non-positive parameter(s) in exgaussian : mu 0, sigma 1.5, tau 0.5\n",
              "8: In evolve_ga_grid(dist_name = dist, dist_param_grid = param_list) :\n",
              "  Invalid or non-positive parameter(s) in exgaussian : mu 0, sigma 1, tau 1\n",
              "9: In evolve_ga_grid(dist_name = dist, dist_param_grid = param_list) :\n",
              "  Invalid or non-positive parameter(s) in exgaussian : mu 0, sigma 1.5, tau 1\n"
            ]
          },
          "metadata": {}
        }
      ]
    },
    {
      "cell_type": "markdown",
      "metadata": {
        "id": "nr1CGt1WhfJg"
      },
      "source": [
        "###Exporting GenAlgo"
      ]
    },
    {
      "cell_type": "code",
      "execution_count": null,
      "metadata": {
        "id": "i3QaWQfFgbUB"
      },
      "outputs": [],
      "source": [
        "%%R\n",
        "\n",
        "write.csv(all_results, \"GAforLocationEstimators.csv\", row.names = FALSE)"
      ]
    },
    {
      "cell_type": "markdown",
      "source": [
        "#Vamos a testear el codigo de Genetic Algo UNICAMENTE sobre ExWald"
      ],
      "metadata": {
        "id": "O_6md3lCwVQo"
      }
    },
    {
      "cell_type": "code",
      "source": [
        "%%R\n",
        "# Ex-Wald generator\n",
        "rexwald <- function(n, mu = 1, lambda = 1, rate = 1) {\n",
        "  T0 <- rexp(n, rate = rate)\n",
        "  W <- statmod::rinvgauss(n, mean = mu, shape = lambda)\n",
        "  return(T0 + W)\n",
        "}\n",
        "\n",
        "# Custom estimator combining mean, median, trimmed mean, and midrange\n",
        "custom_estimator <- function(sample, weights) {\n",
        "  mean_val <- mean(sample)\n",
        "  median_val <- median(sample)\n",
        "  trimmed <- mean(sample, trim = 0.1)\n",
        "  midrange <- (min(sample) + max(sample)) / 2\n",
        "  estimators <- c(mean_val, median_val, trimmed, midrange)\n",
        "  return(sum(weights * estimators))\n",
        "}\n",
        "\n",
        "# Generate Ex-Wald population\n",
        "generate_population <- function(n, params) {\n",
        "  rexwald(n, mu = params$mu, lambda = params$lambda, rate = params$rate)\n",
        "}\n",
        "\n",
        "# Initialize genetic algorithm population\n",
        "init_population <- function(size, n_estimators) {\n",
        "  matrix(data = gtools::rdirichlet(size, rep(1, n_estimators)), nrow = size, byrow = TRUE)\n",
        "}\n",
        "\n",
        "# Genetic crossover\n",
        "crossover <- function(parent1, parent2) {\n",
        "  alpha <- runif(1)\n",
        "  child <- alpha * parent1 + (1 - alpha) * parent2\n",
        "  child / sum(child)\n",
        "}\n",
        "\n",
        "# Mutation operation\n",
        "mutate <- function(weights, mutation_rate = 0.1) {\n",
        "  if (runif(1) < mutation_rate) {\n",
        "    perturb <- gtools::rdirichlet(1, rep(1, length(weights)))\n",
        "    weights <- (weights + perturb) / 2\n",
        "    weights / sum(weights)\n",
        "  } else {\n",
        "    weights\n",
        "  }\n",
        "}\n",
        "\n",
        "# Convert weights to formula string\n",
        "weights_to_formula <- function(weights) {\n",
        "  names <- c(\"mean\", \"median\", \"trimmed\", \"midrange\")\n",
        "  parts <- paste0(round(weights, 3), \"*\", names)\n",
        "  paste(parts, collapse = \" + \")\n",
        "}\n",
        "\n",
        "# Genetic Algorithm simulation for Ex-Wald\n",
        "run_exwald_simulation <- function(\n",
        "  param_grid,\n",
        "  sample_sizes = c(30, 50, 200, 500, 1000, 2000, 5000, 10000),\n",
        "  num_samples = 500,\n",
        "  pop_size = 20,\n",
        "  generations = 20\n",
        ") {\n",
        "  set.seed(42)\n",
        "  results <- list()\n",
        "  n_estimators <- 4\n",
        "  all_possible_params <- c(\"mu\", \"lambda\", \"rate\")\n",
        "\n",
        "  for (param in param_grid) {\n",
        "    if (any(!is.finite(unlist(param))) || any(unlist(param) <= 0)) {\n",
        "      warning(paste(\"Invalid or non-positive parameter(s):\", paste(names(param), param, collapse = \", \")))\n",
        "      next\n",
        "    }\n",
        "\n",
        "    population <- generate_population(1e6, param)\n",
        "    if (any(is.na(population))) {\n",
        "      warning(paste(\"Generated population has NAs for params:\", paste(names(param), param, collapse = \", \")))\n",
        "      next\n",
        "    }\n",
        "\n",
        "    true_mean <- mean(population)\n",
        "\n",
        "    for (sample_size in sample_sizes) {\n",
        "      samples <- replicate(num_samples, sample(population, sample_size), simplify = FALSE)\n",
        "      ga_population <- init_population(pop_size, n_estimators)\n",
        "\n",
        "      for (gen in 1:generations) {\n",
        "        fitness_scores <- apply(ga_population, 1, function(w) {\n",
        "          estimates <- sapply(samples, custom_estimator, weights = w)\n",
        "          mean((estimates - true_mean)^2)\n",
        "        })\n",
        "\n",
        "        selected_idx <- order(fitness_scores)[1:(pop_size / 2)]\n",
        "        selected <- ga_population[selected_idx, , drop = FALSE]\n",
        "\n",
        "        new_population <- matrix(NA, nrow = pop_size, ncol = n_estimators)\n",
        "        for (i in 1:pop_size) {\n",
        "          p1 <- selected[sample(nrow(selected), 1), ]\n",
        "          p2 <- selected[sample(nrow(selected), 1), ]\n",
        "          child <- mutate(crossover(p1, p2))\n",
        "          new_population[i, ] <- child\n",
        "        }\n",
        "        ga_population <- new_population\n",
        "      }\n",
        "\n",
        "      final_fitness <- apply(ga_population, 1, function(w) {\n",
        "        estimates <- sapply(samples, custom_estimator, weights = w)\n",
        "        mean((estimates - true_mean)^2)\n",
        "      })\n",
        "\n",
        "      best_idx <- which.min(final_fitness)\n",
        "      best_weights <- ga_population[best_idx, ]\n",
        "      estimates <- sapply(samples, custom_estimator, weights = best_weights)\n",
        "\n",
        "      metrics <- list(\n",
        "        bias = mean(estimates) - true_mean,\n",
        "        variance = var(estimates),\n",
        "        mse = mean((estimates - true_mean)^2),\n",
        "        iqr = IQR(estimates),\n",
        "        cv_robust = ifelse(median(estimates) != 0, mad(estimates, constant = 1) / median(estimates), NA),\n",
        "        sample_size = sample_size,\n",
        "        distribution = \"exwald\",\n",
        "        estimator = weights_to_formula(best_weights),\n",
        "        weights = paste(round(best_weights, 3), collapse = \";\")\n",
        "      )\n",
        "\n",
        "      param_filled <- setNames(rep(NA, length(all_possible_params)), all_possible_params)\n",
        "      param_filled[names(param)] <- param\n",
        "\n",
        "      results[[length(results) + 1]] <- c(metrics, as.list(param_filled))\n",
        "    }\n",
        "  }\n",
        "  return(dplyr::bind_rows(lapply(results, as.data.frame)))\n",
        "}\n",
        "\n",
        "# Define Ex-Wald parameter grid only\n",
        "exwald_grid <- expand.grid(mu = c(1, 2, 3, 5), lambda = c(1, 2), rate = c(0.5, 1))\n",
        "param_list <- lapply(1:nrow(exwald_grid), function(i) as.list(exwald_grid[i, ]))\n",
        "exwald_results <- run_exwald_simulation(param_list) #exwald_results contiene los resultados de la simulacion\n",
        "dplyr::glimpse(exwald_results)\n"
      ],
      "metadata": {
        "colab": {
          "base_uri": "https://localhost:8080/"
        },
        "id": "4R2QAvihqUDg",
        "outputId": "0d177607-42f4-4051-d739-7a18bcb87fa0"
      },
      "execution_count": null,
      "outputs": [
        {
          "output_type": "stream",
          "name": "stderr",
          "text": [
            "Exception ignored from cffi callback <function _processevents at 0x7a4eb88ebb00>:\n",
            "Traceback (most recent call last):\n",
            "  File \"/usr/local/lib/python3.11/dist-packages/rpy2/rinterface_lib/callbacks.py\", line 283, in _processevents\n",
            "    @ffi_proxy.callback(ffi_proxy._processevents_def,\n",
            "    \n",
            "KeyboardInterrupt: \n"
          ]
        }
      ]
    },
    {
      "cell_type": "code",
      "source": [
        "%%R\n",
        "write.csv(exwald_results, \"results_allGAEx.csv\", row.names = FALSE)"
      ],
      "metadata": {
        "id": "tJt6MI-Swlqv"
      },
      "execution_count": null,
      "outputs": []
    },
    {
      "cell_type": "markdown",
      "source": [
        "#Genetic Algo UNICAMENTE sobre ExWald - Con MAximum-Likelihood.\n"
      ],
      "metadata": {
        "id": "YBACjVHUIysO"
      }
    },
    {
      "cell_type": "code",
      "source": [
        "install.packages(\"RelDists\")"
      ],
      "metadata": {
        "colab": {
          "base_uri": "https://localhost:8080/"
        },
        "id": "D7P_9ERyqZGW",
        "outputId": "30d13ab5-8c02-4512-d15d-1f0ed3da1ee6"
      },
      "execution_count": null,
      "outputs": [
        {
          "output_type": "stream",
          "name": "stderr",
          "text": [
            "Installing packages into ‘/usr/local/lib/R/site-library’\n",
            "(as ‘lib’ is unspecified)\n",
            "\n",
            "also installing the dependencies ‘dotCall64’, ‘spam’, ‘BH’, ‘orthopolynom’, ‘polynom’, ‘colorspace’, ‘fields’, ‘mapproj’, ‘maps’, ‘MBA’, ‘DEoptim’, ‘gaussquad’, ‘numDeriv’, ‘autoimage’, ‘rbibutils’, ‘checkmate’, ‘RcppParallel’, ‘gamlss.data’, ‘gamlss.dist’, ‘EstimationTools’, ‘Rdpack’, ‘zipfR’, ‘BBmisc’, ‘lamW’, ‘VGAM’, ‘foreach’, ‘iterators’, ‘RcppArmadillo’\n",
            "\n",
            "\n"
          ]
        }
      ]
    },
    {
      "cell_type": "code",
      "source": [
        "library(RelDists)"
      ],
      "metadata": {
        "colab": {
          "base_uri": "https://localhost:8080/",
          "height": 141
        },
        "id": "IHt0d81DqXr2",
        "outputId": "3210a28b-375c-455b-bc1c-bd7786d3e54f"
      },
      "execution_count": null,
      "outputs": [
        {
          "output_type": "error",
          "ename": "NameError",
          "evalue": "name 'library' is not defined",
          "traceback": [
            "\u001b[0;31m---------------------------------------------------------------------------\u001b[0m",
            "\u001b[0;31mNameError\u001b[0m                                 Traceback (most recent call last)",
            "\u001b[0;32m<ipython-input-6-3480627255>\u001b[0m in \u001b[0;36m<cell line: 0>\u001b[0;34m()\u001b[0m\n\u001b[0;32m----> 1\u001b[0;31m \u001b[0mlibrary\u001b[0m\u001b[0;34m(\u001b[0m\u001b[0mRelDists\u001b[0m\u001b[0;34m)\u001b[0m\u001b[0;34m\u001b[0m\u001b[0;34m\u001b[0m\u001b[0m\n\u001b[0m",
            "\u001b[0;31mNameError\u001b[0m: name 'library' is not defined"
          ]
        }
      ]
    },
    {
      "cell_type": "markdown",
      "source": [
        "Parametros en RT:::\n",
        "\n",
        "μ = drift rate - pgo\n",
        "\n",
        "σ = decision threshold\n",
        "\n",
        "ν = post-decision (motor) delay"
      ],
      "metadata": {
        "id": "UXOdA2_83EPn"
      }
    },
    {
      "cell_type": "markdown",
      "source": [
        "#La version de Freddy with the GA and the ExWald distribution"
      ],
      "metadata": {
        "id": "gmTzUs9eA51d"
      }
    },
    {
      "cell_type": "code",
      "source": [
        "%%R\n",
        "\n",
        "# Ex-Wald PDF (manual implementation)\n",
        "dExWald <- function(t, mu, lambda, nu) {\n",
        "  t_adj <- t - nu\n",
        "  valid <- t_adj > 0\n",
        "  density <- numeric(length(t))\n",
        "\n",
        "  density[valid] <-\n",
        "    sqrt(lambda / (2 * pi * (t_adj[valid])^3)) *\n",
        "    exp(-lambda * (t_adj[valid] - mu)^2 / (2 * mu^2 * t_adj[valid])) *\n",
        "    exp(-lambda / mu^2)\n",
        "\n",
        "  return(density)\n",
        "}\n",
        "\n",
        "\n",
        "# Fitness function using negative log-likelihood\n",
        "fitness_function <- function(candidate_params, observed_sample) {\n",
        "  mu <- candidate_params[1]\n",
        "  lambda <- candidate_params[2]\n",
        "  nu <- candidate_params[3]\n",
        "  if (mu <= 0 || lambda <= 0 || nu < 0) return(Inf)\n",
        "  dens <- dExWald(observed_sample, mu, lambda, nu)\n",
        "  if (any(dens <= 0 | is.na(dens))) return(Inf)\n",
        "  return(-sum(log(dens)))  # Minimize negative log-likelihood\n",
        "}\n",
        "\n",
        "# Generate sample from Ex-Wald\n",
        "dExwald_sample <- function(n, mu, lambda, rate) {\n",
        "  T0 <- rexp(n, rate = rate)\n",
        "  W <- statmod::rinvgauss(n, mean = mu, shape = lambda)\n",
        "  return(T0 + W)\n",
        "}\n",
        "\n",
        "# GA Initialization\n",
        "init_param_population <- function(pop_size) {\n",
        "  matrix(runif(pop_size * 3, min = 0.1, max = 5), nrow = pop_size, ncol = 3)\n",
        "}\n",
        "\n",
        "# Crossover\n",
        "crossover_params <- function(p1, p2) {\n",
        "  alpha <- runif(1)\n",
        "  child <- alpha * p1 + (1 - alpha) * p2\n",
        "  return(pmax(child, 1e-3))\n",
        "}\n",
        "\n",
        "# Mutation\n",
        "mutate_params <- function(p, mutation_rate = 0.1) {\n",
        "  if (runif(1) < mutation_rate) {\n",
        "    perturb <- rnorm(length(p), mean = 0, sd = 0.2)\n",
        "    p <- p + perturb\n",
        "    p <- pmax(p, 1e-3)\n",
        "  }\n",
        "  return(p)\n",
        "}\n",
        "\n",
        "# GA Estimator for one sample\n",
        "estimate_exwald_params <- function(sample, pop_size = 30, generations = 50) {\n",
        "  population <- init_param_population(pop_size)\n",
        "  for (gen in 1:generations) {\n",
        "    fitness_scores <- apply(population, 1, fitness_function, observed_sample = sample)\n",
        "    best_idx <- order(fitness_scores)[1:(pop_size / 2)]\n",
        "    selected <- population[best_idx, , drop = FALSE]\n",
        "    new_population <- matrix(NA, nrow = pop_size, ncol = 3)\n",
        "    for (i in 1:pop_size) {\n",
        "      parents <- selected[sample(nrow(selected), 2, replace = TRUE), ]\n",
        "      child <- crossover_params(parents[1, ], parents[2, ])\n",
        "      child <- mutate_params(child)\n",
        "      new_population[i, ] <- child\n",
        "    }\n",
        "    population <- new_population\n",
        "  }\n",
        "  best_idx <- which.min(apply(population, 1, fitness_function, observed_sample = sample))\n",
        "  return(population[best_idx, ])\n",
        "}\n",
        "\n",
        "# Simulation over sample sizes\n",
        "simulate_exwald_estimation <- function(mu = 0.2, lambda = 10, rate = 5,\n",
        "                                       sample_sizes = c(10, 20),\n",
        "                                       reps = 50) {\n",
        "  results <- list()\n",
        "  for (n in sample_sizes) {\n",
        "    cat(\"Sample size:\", n, \"\\n\")\n",
        "    estimates <- replicate(reps, {\n",
        "      sample <- dExwald_sample(n, mu, lambda, rate)\n",
        "      estimate_exwald_params(sample)\n",
        "    })\n",
        "    estimates <- t(estimates)\n",
        "    df <- data.frame(mu_hat = estimates[, 1],\n",
        "                     lambda_hat = estimates[, 2],\n",
        "                     nu_hat = estimates[, 3],\n",
        "                     n = n)\n",
        "    results[[length(results) + 1]] <- df\n",
        "  }\n",
        "  return(do.call(rbind, results))\n",
        "}\n",
        "\n",
        "# Example run\n",
        "set.seed(123)\n",
        "exwald_results <- simulate_exwald_estimation(reps = 100)\n",
        "head(exwald_results)\n",
        "\n",
        "\n",
        "\n"
      ],
      "metadata": {
        "colab": {
          "base_uri": "https://localhost:8080/"
        },
        "id": "0w24-4DZA_RC",
        "outputId": "a6a05e6d-13d5-4d42-ebda-f4e6f38ea2d4"
      },
      "execution_count": null,
      "outputs": [
        {
          "output_type": "stream",
          "name": "stdout",
          "text": [
            "Sample size: 10 \n",
            "Sample size: 20 \n",
            "    mu_hat lambda_hat   nu_hat  n\n",
            "1 1.989465   2.047344 2.619593 10\n",
            "2 2.845370   3.465068 2.628589 10\n",
            "3 3.721928   3.400196 3.575026 10\n",
            "4 2.475442   2.218545 1.657873 10\n",
            "5 3.089764   3.600206 2.795957 10\n",
            "6 2.428275   3.993798 1.746224 10\n"
          ]
        }
      ]
    },
    {
      "cell_type": "code",
      "source": [
        "%%R\n",
        "\n",
        "ggplot(exwald_results, aes(x = factor(n), y = mu_hat)) +\n",
        "  geom_boxplot() +\n",
        "  labs(title = \"Estimation of μ (drift rate)\", x = \"Sample size\", y = \"Estimated μ\")"
      ],
      "metadata": {
        "colab": {
          "base_uri": "https://localhost:8080/",
          "height": 497
        },
        "id": "6-Lvj8PaJgFT",
        "outputId": "274ed48e-769e-4c0d-cde0-eab596ed0c08"
      },
      "execution_count": null,
      "outputs": [
        {
          "output_type": "display_data",
          "data": {
            "image/png": "[encoded data removed]",
            "text/plain": [
              "<IPython.core.display.Image object>"
            ]
          },
          "metadata": {}
        }
      ]
    },
    {
      "cell_type": "code",
      "source": [
        "%%R\n",
        "\n",
        "ggplot(exwald_results, aes(x = factor(n), y = lambda_hat)) +\n",
        "  geom_boxplot() +\n",
        "  labs(title = \"Estimation of λ (threshold)\", x = \"Sample size\", y = \"Estimated λ\")"
      ],
      "metadata": {
        "colab": {
          "base_uri": "https://localhost:8080/",
          "height": 497
        },
        "id": "8u7zjESBJhe4",
        "outputId": "9be55f54-de72-4a27-ee0c-885e130b5c08"
      },
      "execution_count": null,
      "outputs": [
        {
          "output_type": "display_data",
          "data": {
            "image/png": "[encoded data removed]",
            "text/plain": [
              "<IPython.core.display.Image object>"
            ]
          },
          "metadata": {}
        }
      ]
    },
    {
      "cell_type": "code",
      "source": [
        "%%R\n",
        "\n",
        "ggplot(exwald_results, aes(x = factor(n), y = nu_hat)) +\n",
        "  geom_boxplot() +\n",
        "  labs(title = \"Estimation of ν (non-decision time)\", x = \"Sample size\", y = \"Estimated ν\")"
      ],
      "metadata": {
        "colab": {
          "base_uri": "https://localhost:8080/",
          "height": 497
        },
        "id": "ZrL9WJ9IJjDb",
        "outputId": "d88bb86c-fed7-4753-bb01-83c7595c96f9"
      },
      "execution_count": null,
      "outputs": [
        {
          "output_type": "display_data",
          "data": {
            "image/png": "[encoded data removed]",
            "text/plain": [
              "<IPython.core.display.Image object>"
            ]
          },
          "metadata": {}
        }
      ]
    }
  ],
  "metadata": {
    "colab": {
      "provenance": [],
      "gpuType": "T4",
      "toc_visible": true,
      "authorship_tag": "ABX9TyOv35/TMzjKgC8JktvdSCAx",
      "include_colab_link": true
    },
    "kernelspec": {
      "display_name": "Python 3",
      "name": "python3"
    },
    "language_info": {
      "name": "python"
    },
    "accelerator": "GPU"
  },
  "nbformat": 4,
  "nbformat_minor": 0
}